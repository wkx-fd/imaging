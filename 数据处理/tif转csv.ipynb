{
 "cells": [
  {
   "cell_type": "code",
   "execution_count": null,
   "id": "92ef3d69-d7da-4626-ae9a-86be6afade47",
   "metadata": {},
   "outputs": [],
   "source": [
    "import numpy as np\n",
    "from PIL import Image\n",
    "import os\n",
    "import pandas as pd\n",
    "\n",
    "# 设置 TIFF 图片文件夹路径和输出文件夹路径\n",
    "image_folder_path = r'C:\\path\\to\\your\\images'  # 替换为实际文件夹路径\n",
    "output_folder_path = r'C:\\path\\to\\output\\csv_files'  # 替换为实际输出文件夹路径\n",
    "\n",
    "# 确保输出文件夹存在，如果不存在则创建\n",
    "if not os.path.exists(output_folder_path):\n",
    "    os.makedirs(output_folder_path)\n",
    "\n",
    "# 读取所有 TIFF 图片的文件名\n",
    "tif_files = [f for f in os.listdir(image_folder_path) if f.endswith('.tif')]\n",
    "\n",
    "# 逐张读取图片并保存为 CSV 文件\n",
    "for idx, tif_file in enumerate(tif_files):\n",
    "    image_path = os.path.join(image_folder_path, tif_file)\n",
    "    \n",
    "    # 打开图像并转换为 float32 类型以节省内存\n",
    "    with Image.open(image_path) as image:\n",
    "        image_data = np.array(image, dtype=np.float32)\n",
    "\n",
    "    # 将数据转换为整数格式\n",
    "    image_data_int = image_data.astype(np.int32)\n",
    "\n",
    "    # 设置输出的 CSV 文件路径\n",
    "    output_csv_path = os.path.join(output_folder_path, f\"{os.path.splitext(tif_file)[0]}.csv\")\n",
    "    \n",
    "    # 将图像数据保存为 CSV 文件\n",
    "    df = pd.DataFrame(image_data_int)\n",
    "    df.to_csv(output_csv_path, index=False, header=False)\n",
    "\n",
    "    print(f\"已导出图片 {idx + 1}/{len(tif_files)}: {tif_file} 到 {output_csv_path}\")\n",
    "\n",
    "print(\"所有 TIFF 图片已导出为 CSV 文件。\")\n"
   ]
  }
 ],
 "metadata": {
  "kernelspec": {
   "display_name": "Python 3 (ipykernel)",
   "language": "python",
   "name": "python3"
  },
  "language_info": {
   "codemirror_mode": {
    "name": "ipython",
    "version": 3
   },
   "file_extension": ".py",
   "mimetype": "text/x-python",
   "name": "python",
   "nbconvert_exporter": "python",
   "pygments_lexer": "ipython3",
   "version": "3.12.6"
  }
 },
 "nbformat": 4,
 "nbformat_minor": 5
}
